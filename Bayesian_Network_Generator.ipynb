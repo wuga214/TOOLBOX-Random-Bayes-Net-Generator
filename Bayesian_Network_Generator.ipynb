{
 "cells": [
  {
   "cell_type": "markdown",
   "metadata": {},
   "source": [
    "# Random Bayesian Network Generator\n",
    "\n",
    "Author: [GA WU](mailto:wuga@mie.utoronto.ca), D3M Lab, MIE, University of Toronto\n",
    "\n",
    "A Bayesian network, Bayes network, belief network, Bayes(ian) model or probabilistic directed acyclic graphical model is a probabilistic graphical model (a type of statistical model) that represents a set of random variables and their conditional dependencies via a directed acyclic graph (DAG).[Cite](https://en.wikipedia.org/wiki/Bayesian_network)\n",
    "\n",
    "This code generates random Bayesian Network in [json format](http://www.json.org/), which corresponding to the import format of python package [libpgm](http://pythonhosted.org/libpgm/).\n",
    "\n",
    "## Limitation\n",
    "The current code only support Bayesian Network with following property:\n",
    "1. Binary Variables(*)\n",
    "2. Multiple Parents nodes\n",
    "3. Single Child node(*)\n",
    "4. Arbitrary number of nodes\n",
    "Note: the stars are big limitation, please if it fits your requirement\n",
    "\n",
    "## Instruction\n",
    "Calling this module is very simple. You only need to instantiate one instance of BayesNet class and provide number of variables of the target Bayesian Network."
   ]
  },
  {
   "cell_type": "code",
   "execution_count": 1,
   "metadata": {
    "collapsed": true
   },
   "outputs": [],
   "source": [
    "# bn = BayesNet(20): will generate a random bayes network with 20 variables.\n",
    "# print bn.stream(): will print the json format on console screen\n",
    "# bn.writeStream('data/bn/new_bn.txt'): will write json file to the target directory"
   ]
  },
  {
   "cell_type": "markdown",
   "metadata": {},
   "source": [
    "## Packages\n",
    "The following list of packages are more than necessary. We put them here to remind ourselves of possible extension direction. Feel free to remove unnecessary package to lighten your work."
   ]
  },
  {
   "cell_type": "code",
   "execution_count": 2,
   "metadata": {
    "collapsed": true
   },
   "outputs": [],
   "source": [
    "import os\n",
    "import json\n",
    "import sys\n",
    "import numpy as np\n",
    "import pandas as pd\n",
    "import string\n",
    "import unicodedata\n",
    "from numpy import genfromtxt\n",
    "from tqdm import tqdm\n",
    "import random \n",
    "import copy\n",
    "import itertools\n",
    "\n",
    "#Load PGM library\n",
    "from libpgm.nodedata import NodeData\n",
    "from libpgm.graphskeleton import GraphSkeleton\n",
    "from libpgm.discretebayesiannetwork import DiscreteBayesianNetwork\n",
    "from libpgm.lgbayesiannetwork import LGBayesianNetwork\n",
    "from libpgm.hybayesiannetwork import HyBayesianNetwork\n",
    "from libpgm.dyndiscbayesiannetwork import DynDiscBayesianNetwork\n",
    "from libpgm.tablecpdfactorization import TableCPDFactorization\n",
    "from libpgm.sampleaggregator import SampleAggregator\n",
    "from libpgm.pgmlearner import PGMLearner\n"
   ]
  },
  {
   "cell_type": "markdown",
   "metadata": {},
   "source": [
    "## Node \n",
    "One unit of bayesian network. This class represents the property of single node:\n",
    "1. Parents list\n",
    "2. Children list\n",
    "3. Conditional probabilities"
   ]
  },
  {
   "cell_type": "code",
   "execution_count": 3,
   "metadata": {
    "collapsed": true
   },
   "outputs": [],
   "source": [
    "class Node():\n",
    "    def __init__(self,name):\n",
    "        self.name = name\n",
    "        self.conds = {}\n",
    "        \n",
    "    def setParents(self, parents):\n",
    "        self.parents = parents\n",
    "        \n",
    "    def setChild(self,child):\n",
    "        self.child =child\n",
    "        \n",
    "    def setRandConds(self):\n",
    "        if not self.parents:\n",
    "            p = round(random.uniform(0.1,0.9), 5)\n",
    "            self.conds[\"No_Parents\"] = [round(p,5), round(1-p,5)]\n",
    "        else:\n",
    "            combinations = [\"\".join(seq) for seq in itertools.product(\"01\", repeat=len(self.parents))]\n",
    "            for c in combinations:\n",
    "                p = round(random.uniform(0.1,0.9), 5)\n",
    "                self.conds[c] = [round(p,5), round(1-p,5)]\n",
    "                \n",
    "    def getParents(self):\n",
    "        return self.parents\n",
    "    \n",
    "    def getChild(self):\n",
    "        return self.child\n",
    "    \n",
    "    def getConds(self):\n",
    "        return self.conds"
   ]
  },
  {
   "cell_type": "code",
   "execution_count": 4,
   "metadata": {
    "collapsed": false
   },
   "outputs": [],
   "source": [
    "class BayesNet():\n",
    "    def __init__(self, num):\n",
    "        self.Vdata = []\n",
    "        self.V = []\n",
    "        self.E = []\n",
    "        vars = self._createVariables(num)\n",
    "        self._createConnections(vars)\n",
    "        self._createVdata(vars)\n",
    "        \n",
    "    def _createVariables(self,num):\n",
    "        vars = []\n",
    "        for i in range(num):\n",
    "            vars.append('Binary_Variable_'+str(i))\n",
    "        self.neighbors = {}\n",
    "        for v in vars:\n",
    "            self.neighbors[v] = []\n",
    "        return vars\n",
    "        \n",
    "    def _createConnections(self,vars):\n",
    "        connected = []\n",
    "        edges = []\n",
    "        e = random.sample(vars, 2)\n",
    "        connected.append(e[0])\n",
    "        self.neighbors.get(e[0]).append(e[1])\n",
    "        connected.append(e[1])\n",
    "        self.neighbors.get(e[1]).append(e[0])\n",
    "        edges.append(e)\n",
    "        for v in vars:\n",
    "            if v not in connected:\n",
    "                c_index = random.randint(0, len(connected)-1)\n",
    "                u = connected[c_index]\n",
    "                edges.append([v,u])\n",
    "                connected.append(v)\n",
    "                self.neighbors.get(v).append(u)\n",
    "                self.neighbors.get(u).append(v)\n",
    "        \n",
    "   \n",
    "    def _createVdata(self,vars):\n",
    "        todo = copy.deepcopy(vars)\n",
    "        done = []\n",
    "        #for i in range(100):\n",
    "        while len(todo)!=0:\n",
    "            index = random.randint(0, len(todo)-1)\n",
    "            v = todo[index]\n",
    "            parents = list(set(done) & set(self.neighbors[v]))\n",
    "            child = list(set(self.neighbors[v]).difference(parents))\n",
    "            if len(child)<=1:\n",
    "                node = Node(v)\n",
    "                node.setParents(parents)\n",
    "                node.setChild(child)\n",
    "                node.setRandConds()\n",
    "                todo.remove(v)\n",
    "                done.append(v)\n",
    "                self.V.append(v)\n",
    "                self.Vdata.append(node)\n",
    "                if parents:\n",
    "                    for p in parents:\n",
    "                        self.E.append([p,v])\n",
    "    \n",
    "    def printNodes(self):\n",
    "        for v in self.Vdata:\n",
    "            print v.name\n",
    "            print v.conds\n",
    "            \n",
    "    def _vertexStream(self):\n",
    "        return '\\t\"V\": {0}'.format(self.V).replace(\"'\",'\"')\n",
    "    \n",
    "    def _edgeStream(self):\n",
    "        return '\\t\"E\": {0}'.format(self.E).replace(\"'\",'\"').replace(\"],\",\"],\\n\\t\\t\")\n",
    "            \n",
    "    def _nodeStream(self):\n",
    "        NUMEOUTCOMES = 2 #Binary ONLY\n",
    "        vnodes = []\n",
    "        for i,v in enumerate(self.Vdata):\n",
    "            order = '\"ord\":{0}'.format(i)\n",
    "            numoutcomes = '\"numoutcomes\": {0}'.format(NUMEOUTCOMES)\n",
    "            outcome = '\"vals\": [\"Neg_{0}\", \"Pos_{0}\"]'.format(v.name)\n",
    "            if not v.parents:\n",
    "                parents = '\"parents\": null'\n",
    "                cprob = '\"cprob\":{0}'.format(v.conds.get(\"No_Parents\"))\n",
    "            else:\n",
    "                parents = '\"parents\": '+str(v.parents).replace(\"'\",'\"')\n",
    "                combs = []\n",
    "                for key in v.conds.keys():\n",
    "                    key_list =list(key)\n",
    "                    comb_list = []\n",
    "                    for j,b in enumerate(key_list):\n",
    "                        if b == '0':\n",
    "                            comb_list.append(\"'Neg_{0}'\".format(v.parents[j]))\n",
    "                        else:\n",
    "                            comb_list.append(\"'Pos_{0}'\".format(v.parents[j]))\n",
    "                    comb_name = ', '.join(comb_list)\n",
    "                    combs.append('\"[{0}]\":{1}'.format(comb_name,v.conds.get(key)))\n",
    "                cprob = '\"cprob\":{{\\n\\t\\t\\t\\t{0}\\n\\t\\t\\t\\t}}'.format(',\\n\\t\\t\\t\\t'.join(combs))\n",
    "                \n",
    "            if not v.child:\n",
    "                children = '\"children\": null'\n",
    "            else:\n",
    "                children = '\"children\": '+str(v.child).replace(\"'\",'\"')\n",
    "            \n",
    "            components = [order, numoutcomes, outcome, parents, children, cprob]\n",
    "            vnodes.append('\"{0}\":{{\\n\\t\\t\\t{1}\\n\\t\\t\\t}}'.format(v.name, \",\\n\\t\\t\\t\".join(components)))\n",
    "        vdata = '\\t\"Vdata\":{{\\n\\t\\t{0}\\n\\t\\t}}'.format(',\\n\\t\\t'.join(vnodes))\n",
    "        return vdata\n",
    "            \n",
    "    def stream(self):\n",
    "        vertex = self._vertexStream()\n",
    "        edge = self._edgeStream()\n",
    "        node = self._nodeStream()\n",
    "        components = [vertex,edge,node]\n",
    "        stream = '{{\\n{0}\\n}}'.format(',\\n'.join(components))\n",
    "        return stream\n",
    "    \n",
    "    def writeStream(self,path):\n",
    "        with open(path, \"w\") as text_file:\n",
    "            text_file.write(self.stream())\n",
    "        print \"Done!\""
   ]
  },
  {
   "cell_type": "code",
   "execution_count": 5,
   "metadata": {
    "collapsed": false
   },
   "outputs": [],
   "source": [
    "bn = BayesNet(2)"
   ]
  },
  {
   "cell_type": "code",
   "execution_count": 6,
   "metadata": {
    "collapsed": false
   },
   "outputs": [
    {
     "name": "stdout",
     "output_type": "stream",
     "text": [
      "{\n",
      "\t\"V\": [\"Binary_Variable_1\", \"Binary_Variable_0\"],\n",
      "\t\"E\": [[\"Binary_Variable_1\", \"Binary_Variable_0\"]],\n",
      "\t\"Vdata\":{\n",
      "\t\t\"Binary_Variable_1\":{\n",
      "\t\t\t\"ord\":0,\n",
      "\t\t\t\"numoutcomes\": 2,\n",
      "\t\t\t\"vals\": [\"Neg_Binary_Variable_1\", \"Pos_Binary_Variable_1\"],\n",
      "\t\t\t\"parents\": null,\n",
      "\t\t\t\"children\": [\"Binary_Variable_0\"],\n",
      "\t\t\t\"cprob\":[0.60537, 0.39463]\n",
      "\t\t\t},\n",
      "\t\t\"Binary_Variable_0\":{\n",
      "\t\t\t\"ord\":1,\n",
      "\t\t\t\"numoutcomes\": 2,\n",
      "\t\t\t\"vals\": [\"Neg_Binary_Variable_0\", \"Pos_Binary_Variable_0\"],\n",
      "\t\t\t\"parents\": [\"Binary_Variable_1\"],\n",
      "\t\t\t\"children\": null,\n",
      "\t\t\t\"cprob\":{\n",
      "\t\t\t\t\"['Pos_Binary_Variable_1']\":[0.18648, 0.81352],\n",
      "\t\t\t\t\"['Neg_Binary_Variable_1']\":[0.36545, 0.63455]\n",
      "\t\t\t\t}\n",
      "\t\t\t}\n",
      "\t\t}\n",
      "}\n"
     ]
    }
   ],
   "source": [
    "print bn.stream()"
   ]
  },
  {
   "cell_type": "code",
   "execution_count": 7,
   "metadata": {
    "collapsed": false
   },
   "outputs": [
    {
     "name": "stdout",
     "output_type": "stream",
     "text": [
      "Done!\n"
     ]
    }
   ],
   "source": [
    "bn.writeStream('data/bn/demo.txt')"
   ]
  },
  {
   "cell_type": "code",
   "execution_count": null,
   "metadata": {
    "collapsed": true
   },
   "outputs": [],
   "source": []
  },
  {
   "cell_type": "code",
   "execution_count": null,
   "metadata": {
    "collapsed": true
   },
   "outputs": [],
   "source": []
  }
 ],
 "metadata": {
  "kernelspec": {
   "display_name": "Python 2",
   "language": "python",
   "name": "python2"
  },
  "language_info": {
   "codemirror_mode": {
    "name": "ipython",
    "version": 2
   },
   "file_extension": ".py",
   "mimetype": "text/x-python",
   "name": "python",
   "nbconvert_exporter": "python",
   "pygments_lexer": "ipython2",
   "version": "2.7.6"
  }
 },
 "nbformat": 4,
 "nbformat_minor": 1
}
